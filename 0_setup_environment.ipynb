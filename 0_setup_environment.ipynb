{
  "nbformat": 4,
  "nbformat_minor": 0,
  "metadata": {
    "colab": {
      "provenance": []
    },
    "kernelspec": {
      "name": "python3",
      "display_name": "Python 3"
    },
    "language_info": {
      "name": "python"
    }
  },
  "cells": [
    {
      "cell_type": "code",
      "execution_count": 1,
      "metadata": {
        "id": "IbHS8unTiuFM"
      },
      "outputs": [],
      "source": [
        "import os\n",
        "\n",
        "base_dir = \"/content/gan-augmentation\"\n",
        "\n",
        "folders = [\n",
        "    \"data\",\n",
        "    \"models\",\n",
        "    \"training\",\n",
        "    \"adversarial\",\n",
        "    \"utils\",\n",
        "    \"experiments\",\n",
        "    \"reports/figures\",\n",
        "    \"notebooks\"\n",
        "]\n",
        "\n",
        "for folder in folders:\n",
        "    path = os.path.join(base_dir, folder)\n",
        "    os.makedirs(path, exist_ok=True)\n"
      ]
    },
    {
      "cell_type": "code",
      "source": [
        "!pip install torch torchvision timm albumentations foolbox matplotlib seaborn scikit-learn\n"
      ],
      "metadata": {
        "colab": {
          "base_uri": "https://localhost:8080/"
        },
        "id": "hht9srIVk50d",
        "outputId": "15f91399-7e9f-4d4f-e402-add06be2e87e"
      },
      "execution_count": 2,
      "outputs": [
        {
          "output_type": "stream",
          "name": "stdout",
          "text": [
            "Requirement already satisfied: torch in /usr/local/lib/python3.11/dist-packages (2.6.0+cu124)\n",
            "Requirement already satisfied: torchvision in /usr/local/lib/python3.11/dist-packages (0.21.0+cu124)\n",
            "Requirement already satisfied: timm in /usr/local/lib/python3.11/dist-packages (1.0.19)\n",
            "Requirement already satisfied: albumentations in /usr/local/lib/python3.11/dist-packages (2.0.8)\n",
            "Collecting foolbox\n",
            "  Downloading foolbox-3.3.4-py3-none-any.whl.metadata (7.3 kB)\n",
            "Requirement already satisfied: matplotlib in /usr/local/lib/python3.11/dist-packages (3.10.0)\n",
            "Requirement already satisfied: seaborn in /usr/local/lib/python3.11/dist-packages (0.13.2)\n",
            "Requirement already satisfied: scikit-learn in /usr/local/lib/python3.11/dist-packages (1.6.1)\n",
            "Requirement already satisfied: filelock in /usr/local/lib/python3.11/dist-packages (from torch) (3.18.0)\n",
            "Requirement already satisfied: typing-extensions>=4.10.0 in /usr/local/lib/python3.11/dist-packages (from torch) (4.14.1)\n",
            "Requirement already satisfied: networkx in /usr/local/lib/python3.11/dist-packages (from torch) (3.5)\n",
            "Requirement already satisfied: jinja2 in /usr/local/lib/python3.11/dist-packages (from torch) (3.1.6)\n",
            "Requirement already satisfied: fsspec in /usr/local/lib/python3.11/dist-packages (from torch) (2025.3.0)\n",
            "Collecting nvidia-cuda-nvrtc-cu12==12.4.127 (from torch)\n",
            "  Downloading nvidia_cuda_nvrtc_cu12-12.4.127-py3-none-manylinux2014_x86_64.whl.metadata (1.5 kB)\n",
            "Collecting nvidia-cuda-runtime-cu12==12.4.127 (from torch)\n",
            "  Downloading nvidia_cuda_runtime_cu12-12.4.127-py3-none-manylinux2014_x86_64.whl.metadata (1.5 kB)\n",
            "Collecting nvidia-cuda-cupti-cu12==12.4.127 (from torch)\n",
            "  Downloading nvidia_cuda_cupti_cu12-12.4.127-py3-none-manylinux2014_x86_64.whl.metadata (1.6 kB)\n",
            "Collecting nvidia-cudnn-cu12==9.1.0.70 (from torch)\n",
            "  Downloading nvidia_cudnn_cu12-9.1.0.70-py3-none-manylinux2014_x86_64.whl.metadata (1.6 kB)\n",
            "\u001b[31mERROR: Operation cancelled by user\u001b[0m\u001b[31m\n",
            "\u001b[0m"
          ]
        }
      ]
    },
    {
      "cell_type": "code",
      "source": [
        "with open(\"/content/gan-augmentation/.gitignore\", \"w\") as f:\n",
        "    f.write(\"\"\"__pycache__/\n",
        "*.pyc\n",
        ".DS_Store\n",
        ".ipynb_checkpoints/\n",
        "*.pt\n",
        "*.h5\n",
        "*.log\n",
        "data/\n",
        "experiments/\n",
        "\"\"\")"
      ],
      "metadata": {
        "id": "vn258ObFlAQF"
      },
      "execution_count": 6,
      "outputs": []
    },
    {
      "cell_type": "code",
      "source": [
        "with open(\"/content/gan-augmentation/requirements.txt\", \"w\") as f:\n",
        "    f.write(\"\"\"torch\n",
        "torchvision\n",
        "timm\n",
        "albumentations\n",
        "foolbox\n",
        "matplotlib\n",
        "seaborn\n",
        "scikit-learn\n",
        "\"\"\")"
      ],
      "metadata": {
        "id": "GOReKS2IlEav"
      },
      "execution_count": 4,
      "outputs": []
    },
    {
      "cell_type": "code",
      "source": [
        "!ls -R /content/gan-augmentation"
      ],
      "metadata": {
        "colab": {
          "base_uri": "https://localhost:8080/"
        },
        "id": "VX8wA9-qlIPU",
        "outputId": "98f42edc-a34d-4468-a76d-215b13fb4ebd"
      },
      "execution_count": 5,
      "outputs": [
        {
          "output_type": "stream",
          "name": "stdout",
          "text": [
            "/content/gan-augmentation:\n",
            "adversarial  experiments  notebooks  requirements.txt  utils\n",
            "data\t     models\t  reports    training\n",
            "\n",
            "/content/gan-augmentation/adversarial:\n",
            "\n",
            "/content/gan-augmentation/data:\n",
            "\n",
            "/content/gan-augmentation/experiments:\n",
            "\n",
            "/content/gan-augmentation/models:\n",
            "\n",
            "/content/gan-augmentation/notebooks:\n",
            "\n",
            "/content/gan-augmentation/reports:\n",
            "figures\n",
            "\n",
            "/content/gan-augmentation/reports/figures:\n",
            "\n",
            "/content/gan-augmentation/training:\n",
            "\n",
            "/content/gan-augmentation/utils:\n"
          ]
        }
      ]
    }
  ]
}